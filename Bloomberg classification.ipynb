{
 "cells": [
  {
   "cell_type": "code",
   "execution_count": 1,
   "id": "backed-serbia",
   "metadata": {},
   "outputs": [
    {
     "data": {
      "text/html": [
       "<div>\n",
       "<style scoped>\n",
       "    .dataframe tbody tr th:only-of-type {\n",
       "        vertical-align: middle;\n",
       "    }\n",
       "\n",
       "    .dataframe tbody tr th {\n",
       "        vertical-align: top;\n",
       "    }\n",
       "\n",
       "    .dataframe thead th {\n",
       "        text-align: right;\n",
       "    }\n",
       "</style>\n",
       "<table border=\"1\" class=\"dataframe\">\n",
       "  <thead>\n",
       "    <tr style=\"text-align: right;\">\n",
       "      <th></th>\n",
       "      <th>link</th>\n",
       "      <th>headline</th>\n",
       "      <th>category</th>\n",
       "      <th>short_description</th>\n",
       "      <th>authors</th>\n",
       "      <th>date</th>\n",
       "    </tr>\n",
       "  </thead>\n",
       "  <tbody>\n",
       "    <tr>\n",
       "      <th>0</th>\n",
       "      <td>https://www.huffpost.com/entry/covid-boosters-...</td>\n",
       "      <td>Over 4 Million Americans Roll Up Sleeves For O...</td>\n",
       "      <td>U.S. NEWS</td>\n",
       "      <td>Health experts said it is too early to predict...</td>\n",
       "      <td>Carla K. Johnson, AP</td>\n",
       "      <td>2022-09-23</td>\n",
       "    </tr>\n",
       "    <tr>\n",
       "      <th>1</th>\n",
       "      <td>https://www.huffpost.com/entry/american-airlin...</td>\n",
       "      <td>American Airlines Flyer Charged, Banned For Li...</td>\n",
       "      <td>U.S. NEWS</td>\n",
       "      <td>He was subdued by passengers and crew when he ...</td>\n",
       "      <td>Mary Papenfuss</td>\n",
       "      <td>2022-09-23</td>\n",
       "    </tr>\n",
       "    <tr>\n",
       "      <th>2</th>\n",
       "      <td>https://www.huffpost.com/entry/funniest-tweets...</td>\n",
       "      <td>23 Of The Funniest Tweets About Cats And Dogs ...</td>\n",
       "      <td>COMEDY</td>\n",
       "      <td>\"Until you have a dog you don't understand wha...</td>\n",
       "      <td>Elyse Wanshel</td>\n",
       "      <td>2022-09-23</td>\n",
       "    </tr>\n",
       "    <tr>\n",
       "      <th>3</th>\n",
       "      <td>https://www.huffpost.com/entry/funniest-parent...</td>\n",
       "      <td>The Funniest Tweets From Parents This Week (Se...</td>\n",
       "      <td>PARENTING</td>\n",
       "      <td>\"Accidentally put grown-up toothpaste on my to...</td>\n",
       "      <td>Caroline Bologna</td>\n",
       "      <td>2022-09-23</td>\n",
       "    </tr>\n",
       "    <tr>\n",
       "      <th>4</th>\n",
       "      <td>https://www.huffpost.com/entry/amy-cooper-lose...</td>\n",
       "      <td>Woman Who Called Cops On Black Bird-Watcher Lo...</td>\n",
       "      <td>U.S. NEWS</td>\n",
       "      <td>Amy Cooper accused investment firm Franklin Te...</td>\n",
       "      <td>Nina Golgowski</td>\n",
       "      <td>2022-09-22</td>\n",
       "    </tr>\n",
       "    <tr>\n",
       "      <th>...</th>\n",
       "      <td>...</td>\n",
       "      <td>...</td>\n",
       "      <td>...</td>\n",
       "      <td>...</td>\n",
       "      <td>...</td>\n",
       "      <td>...</td>\n",
       "    </tr>\n",
       "    <tr>\n",
       "      <th>209522</th>\n",
       "      <td>https://www.huffingtonpost.com/entry/rim-ceo-t...</td>\n",
       "      <td>RIM CEO Thorsten Heins' 'Significant' Plans Fo...</td>\n",
       "      <td>TECH</td>\n",
       "      <td>Verizon Wireless and AT&amp;T are already promotin...</td>\n",
       "      <td>Reuters, Reuters</td>\n",
       "      <td>2012-01-28</td>\n",
       "    </tr>\n",
       "    <tr>\n",
       "      <th>209523</th>\n",
       "      <td>https://www.huffingtonpost.com/entry/maria-sha...</td>\n",
       "      <td>Maria Sharapova Stunned By Victoria Azarenka I...</td>\n",
       "      <td>SPORTS</td>\n",
       "      <td>Afterward, Azarenka, more effusive with the pr...</td>\n",
       "      <td></td>\n",
       "      <td>2012-01-28</td>\n",
       "    </tr>\n",
       "    <tr>\n",
       "      <th>209524</th>\n",
       "      <td>https://www.huffingtonpost.com/entry/super-bow...</td>\n",
       "      <td>Giants Over Patriots, Jets Over Colts Among  M...</td>\n",
       "      <td>SPORTS</td>\n",
       "      <td>Leading up to Super Bowl XLVI, the most talked...</td>\n",
       "      <td></td>\n",
       "      <td>2012-01-28</td>\n",
       "    </tr>\n",
       "    <tr>\n",
       "      <th>209525</th>\n",
       "      <td>https://www.huffingtonpost.com/entry/aldon-smi...</td>\n",
       "      <td>Aldon Smith Arrested: 49ers Linebacker Busted ...</td>\n",
       "      <td>SPORTS</td>\n",
       "      <td>CORRECTION: An earlier version of this story i...</td>\n",
       "      <td></td>\n",
       "      <td>2012-01-28</td>\n",
       "    </tr>\n",
       "    <tr>\n",
       "      <th>209526</th>\n",
       "      <td>https://www.huffingtonpost.com/entry/dwight-ho...</td>\n",
       "      <td>Dwight Howard Rips Teammates After Magic Loss ...</td>\n",
       "      <td>SPORTS</td>\n",
       "      <td>The five-time all-star center tore into his te...</td>\n",
       "      <td></td>\n",
       "      <td>2012-01-28</td>\n",
       "    </tr>\n",
       "  </tbody>\n",
       "</table>\n",
       "<p>209527 rows × 6 columns</p>\n",
       "</div>"
      ],
      "text/plain": [
       "                                                     link  \\\n",
       "0       https://www.huffpost.com/entry/covid-boosters-...   \n",
       "1       https://www.huffpost.com/entry/american-airlin...   \n",
       "2       https://www.huffpost.com/entry/funniest-tweets...   \n",
       "3       https://www.huffpost.com/entry/funniest-parent...   \n",
       "4       https://www.huffpost.com/entry/amy-cooper-lose...   \n",
       "...                                                   ...   \n",
       "209522  https://www.huffingtonpost.com/entry/rim-ceo-t...   \n",
       "209523  https://www.huffingtonpost.com/entry/maria-sha...   \n",
       "209524  https://www.huffingtonpost.com/entry/super-bow...   \n",
       "209525  https://www.huffingtonpost.com/entry/aldon-smi...   \n",
       "209526  https://www.huffingtonpost.com/entry/dwight-ho...   \n",
       "\n",
       "                                                 headline   category  \\\n",
       "0       Over 4 Million Americans Roll Up Sleeves For O...  U.S. NEWS   \n",
       "1       American Airlines Flyer Charged, Banned For Li...  U.S. NEWS   \n",
       "2       23 Of The Funniest Tweets About Cats And Dogs ...     COMEDY   \n",
       "3       The Funniest Tweets From Parents This Week (Se...  PARENTING   \n",
       "4       Woman Who Called Cops On Black Bird-Watcher Lo...  U.S. NEWS   \n",
       "...                                                   ...        ...   \n",
       "209522  RIM CEO Thorsten Heins' 'Significant' Plans Fo...       TECH   \n",
       "209523  Maria Sharapova Stunned By Victoria Azarenka I...     SPORTS   \n",
       "209524  Giants Over Patriots, Jets Over Colts Among  M...     SPORTS   \n",
       "209525  Aldon Smith Arrested: 49ers Linebacker Busted ...     SPORTS   \n",
       "209526  Dwight Howard Rips Teammates After Magic Loss ...     SPORTS   \n",
       "\n",
       "                                        short_description  \\\n",
       "0       Health experts said it is too early to predict...   \n",
       "1       He was subdued by passengers and crew when he ...   \n",
       "2       \"Until you have a dog you don't understand wha...   \n",
       "3       \"Accidentally put grown-up toothpaste on my to...   \n",
       "4       Amy Cooper accused investment firm Franklin Te...   \n",
       "...                                                   ...   \n",
       "209522  Verizon Wireless and AT&T are already promotin...   \n",
       "209523  Afterward, Azarenka, more effusive with the pr...   \n",
       "209524  Leading up to Super Bowl XLVI, the most talked...   \n",
       "209525  CORRECTION: An earlier version of this story i...   \n",
       "209526  The five-time all-star center tore into his te...   \n",
       "\n",
       "                     authors        date  \n",
       "0       Carla K. Johnson, AP  2022-09-23  \n",
       "1             Mary Papenfuss  2022-09-23  \n",
       "2              Elyse Wanshel  2022-09-23  \n",
       "3           Caroline Bologna  2022-09-23  \n",
       "4             Nina Golgowski  2022-09-22  \n",
       "...                      ...         ...  \n",
       "209522      Reuters, Reuters  2012-01-28  \n",
       "209523                        2012-01-28  \n",
       "209524                        2012-01-28  \n",
       "209525                        2012-01-28  \n",
       "209526                        2012-01-28  \n",
       "\n",
       "[209527 rows x 6 columns]"
      ]
     },
     "execution_count": 1,
     "metadata": {},
     "output_type": "execute_result"
    }
   ],
   "source": [
    "import json\n",
    "import pandas as pd\n",
    "from functools import partial\n",
    "\n",
    "dataset_dict = {}\n",
    "\n",
    "with open('News_Category_Dataset_v3.json') as f:\n",
    "    i = 0\n",
    "    for line in f:\n",
    "        dataset = json.loads(line)\n",
    "        if i == 0:\n",
    "            for key in dataset:\n",
    "                dataset_dict[key] = [dataset[key]]\n",
    "        else:\n",
    "            for key in dataset:\n",
    "                dataset_dict[key].append(dataset[key])\n",
    "        \n",
    "        i += 1\n",
    "\n",
    "df = pd.DataFrame.from_dict(dataset_dict)\n",
    "df"
   ]
  },
  {
   "cell_type": "code",
   "execution_count": 2,
   "id": "unusual-export",
   "metadata": {},
   "outputs": [
    {
     "data": {
      "text/plain": [
       "array(['U.S. NEWS', 'COMEDY', 'PARENTING', 'WORLD NEWS', 'CULTURE & ARTS',\n",
       "       'TECH', 'SPORTS', 'ENTERTAINMENT', 'POLITICS', 'WEIRD NEWS',\n",
       "       'ENVIRONMENT', 'EDUCATION', 'CRIME', 'SCIENCE', 'WELLNESS',\n",
       "       'BUSINESS', 'STYLE & BEAUTY', 'FOOD & DRINK', 'MEDIA',\n",
       "       'QUEER VOICES', 'HOME & LIVING', 'WOMEN', 'BLACK VOICES', 'TRAVEL',\n",
       "       'MONEY', 'RELIGION', 'LATINO VOICES', 'IMPACT', 'WEDDINGS',\n",
       "       'COLLEGE', 'PARENTS', 'ARTS & CULTURE', 'STYLE', 'GREEN', 'TASTE',\n",
       "       'HEALTHY LIVING', 'THE WORLDPOST', 'GOOD NEWS', 'WORLDPOST',\n",
       "       'FIFTY', 'ARTS', 'DIVORCE'], dtype=object)"
      ]
     },
     "execution_count": 2,
     "metadata": {},
     "output_type": "execute_result"
    }
   ],
   "source": [
    "df['category'].unique()"
   ]
  },
  {
   "cell_type": "code",
   "execution_count": 3,
   "id": "consolidated-jacksonville",
   "metadata": {},
   "outputs": [
    {
     "data": {
      "text/plain": [
       "7"
      ]
     },
     "execution_count": 3,
     "metadata": {},
     "output_type": "execute_result"
    }
   ],
   "source": [
    "categories = [\n",
    "        'COMEDY', 'WORLD NEWS', 'CULTURE & ARTS', 'TECH', 'SPORTS', 'ENTERTAINMENT', 'POLITICS',\n",
    "#         'ENVIRONMENT', 'EDUCATION', 'CRIME', 'SCIENCE', 'WELLNESS', 'BUSINESS', 'STYLE & BEAUTY', 'FOOD & DRINK', \n",
    "#         'MEDIA', 'TRAVEL', 'MONEY', 'STYLE'\n",
    "]\n",
    "len(categories)"
   ]
  },
  {
   "cell_type": "code",
   "execution_count": 4,
   "id": "higher-philosophy",
   "metadata": {},
   "outputs": [],
   "source": [
    "df_sampled = pd.DataFrame()"
   ]
  },
  {
   "cell_type": "code",
   "execution_count": 5,
   "id": "purple-theology",
   "metadata": {},
   "outputs": [],
   "source": [
    "for cat in categories:\n",
    "    df_sampled = pd.concat([df_sampled, df[(df['category'] == cat) & (df['short_description'] != '')].sample(n=500)])"
   ]
  },
  {
   "cell_type": "code",
   "execution_count": 6,
   "id": "present-connecticut",
   "metadata": {},
   "outputs": [
    {
     "data": {
      "text/html": [
       "<div>\n",
       "<style scoped>\n",
       "    .dataframe tbody tr th:only-of-type {\n",
       "        vertical-align: middle;\n",
       "    }\n",
       "\n",
       "    .dataframe tbody tr th {\n",
       "        vertical-align: top;\n",
       "    }\n",
       "\n",
       "    .dataframe thead th {\n",
       "        text-align: right;\n",
       "    }\n",
       "</style>\n",
       "<table border=\"1\" class=\"dataframe\">\n",
       "  <thead>\n",
       "    <tr style=\"text-align: right;\">\n",
       "      <th></th>\n",
       "      <th>link</th>\n",
       "      <th>headline</th>\n",
       "      <th>category</th>\n",
       "      <th>short_description</th>\n",
       "      <th>authors</th>\n",
       "      <th>date</th>\n",
       "    </tr>\n",
       "  </thead>\n",
       "  <tbody>\n",
       "    <tr>\n",
       "      <th>98133</th>\n",
       "      <td>https://www.huffingtonpost.com/entry/im-with-s...</td>\n",
       "      <td>I'm With Stupid: Arrested Despite 72,000 Good-...</td>\n",
       "      <td>COMEDY</td>\n",
       "      <td>I have to admit that I'm a big fan of the seni...</td>\n",
       "      <td>Todd Hartley, ContributorBuckler of swashes</td>\n",
       "      <td>2015-06-01</td>\n",
       "    </tr>\n",
       "    <tr>\n",
       "      <th>149777</th>\n",
       "      <td>https://www.huffingtonpost.com/entry/snl-obama...</td>\n",
       "      <td>'SNL' Troubleshoots Obamacare Website Problems...</td>\n",
       "      <td>COMEDY</td>\n",
       "      <td>\"Saturday Night Live\" wasted no time getting t...</td>\n",
       "      <td>Katla McGlynn</td>\n",
       "      <td>2013-10-27</td>\n",
       "    </tr>\n",
       "    <tr>\n",
       "      <th>183841</th>\n",
       "      <td>https://www.huffingtonpost.com/entry/fallon-re...</td>\n",
       "      <td>Fallon's Retro Halloween Video Teaches You How...</td>\n",
       "      <td>COMEDY</td>\n",
       "      <td>Halloween can be both safe and fun... or, it c...</td>\n",
       "      <td></td>\n",
       "      <td>2012-10-31</td>\n",
       "    </tr>\n",
       "    <tr>\n",
       "      <th>5899</th>\n",
       "      <td>https://www.huffpost.com/entry/donald-trump-al...</td>\n",
       "      <td>Alec Baldwin Returns To 'SNL' For Trump Rally ...</td>\n",
       "      <td>COMEDY</td>\n",
       "      <td>Darrell Hammond's Clinton and Baldwin share im...</td>\n",
       "      <td>Mary Papenfuss</td>\n",
       "      <td>2019-10-27</td>\n",
       "    </tr>\n",
       "    <tr>\n",
       "      <th>8077</th>\n",
       "      <td>https://www.huffpost.com/entry/trevor-noah-tru...</td>\n",
       "      <td>Trevor Noah Hints That Trump May Have A Proble...</td>\n",
       "      <td>COMEDY</td>\n",
       "      <td>Trump \"has this insane and innate talent for d...</td>\n",
       "      <td>Carla Baranauckas</td>\n",
       "      <td>2018-09-27</td>\n",
       "    </tr>\n",
       "    <tr>\n",
       "      <th>...</th>\n",
       "      <td>...</td>\n",
       "      <td>...</td>\n",
       "      <td>...</td>\n",
       "      <td>...</td>\n",
       "      <td>...</td>\n",
       "      <td>...</td>\n",
       "    </tr>\n",
       "    <tr>\n",
       "      <th>87212</th>\n",
       "      <td>https://www.huffingtonpost.com/entry/obamas-bi...</td>\n",
       "      <td>Obama's Big UN Week Sunk by Putin's Clever Gam...</td>\n",
       "      <td>POLITICS</td>\n",
       "      <td>We may look back on this week as one of the tr...</td>\n",
       "      <td>William Bradley, ContributorPolitical Analyst</td>\n",
       "      <td>2015-10-03</td>\n",
       "    </tr>\n",
       "    <tr>\n",
       "      <th>11871</th>\n",
       "      <td>https://www.huffingtonpost.com/entry/trump-rob...</td>\n",
       "      <td>Robert Mueller May Have Found That Witch That ...</td>\n",
       "      <td>POLITICS</td>\n",
       "      <td>The special counsel spells out a link between ...</td>\n",
       "      <td>S.V. Date</td>\n",
       "      <td>2018-03-28</td>\n",
       "    </tr>\n",
       "    <tr>\n",
       "      <th>40505</th>\n",
       "      <td>https://www.huffingtonpost.com/entry/the-morni...</td>\n",
       "      <td>Wednesday's Morning Email: Part Of Trump's 200...</td>\n",
       "      <td>POLITICS</td>\n",
       "      <td>TOP STORIES (And want to get The Morning Email...</td>\n",
       "      <td>Eliot Nelson</td>\n",
       "      <td>2017-03-15</td>\n",
       "    </tr>\n",
       "    <tr>\n",
       "      <th>38264</th>\n",
       "      <td>https://www.huffingtonpost.com/entry/eric-trum...</td>\n",
       "      <td>Eric Trump: Nepotism Is 'A Beautiful Thing'</td>\n",
       "      <td>POLITICS</td>\n",
       "      <td>“Is that nepotism? Absolutely. Is that also a ...</td>\n",
       "      <td>Christina Wilkie</td>\n",
       "      <td>2017-04-11</td>\n",
       "    </tr>\n",
       "    <tr>\n",
       "      <th>52976</th>\n",
       "      <td>https://www.huffingtonpost.com/entry/pat-mccro...</td>\n",
       "      <td>HB 2 Just Cost North Carolina Another $250 Mil...</td>\n",
       "      <td>POLITICS</td>\n",
       "      <td>A real estate firm bypassed Charlotte for a ma...</td>\n",
       "      <td>Jennifer Bendery</td>\n",
       "      <td>2016-10-26</td>\n",
       "    </tr>\n",
       "  </tbody>\n",
       "</table>\n",
       "<p>3500 rows × 6 columns</p>\n",
       "</div>"
      ],
      "text/plain": [
       "                                                     link  \\\n",
       "98133   https://www.huffingtonpost.com/entry/im-with-s...   \n",
       "149777  https://www.huffingtonpost.com/entry/snl-obama...   \n",
       "183841  https://www.huffingtonpost.com/entry/fallon-re...   \n",
       "5899    https://www.huffpost.com/entry/donald-trump-al...   \n",
       "8077    https://www.huffpost.com/entry/trevor-noah-tru...   \n",
       "...                                                   ...   \n",
       "87212   https://www.huffingtonpost.com/entry/obamas-bi...   \n",
       "11871   https://www.huffingtonpost.com/entry/trump-rob...   \n",
       "40505   https://www.huffingtonpost.com/entry/the-morni...   \n",
       "38264   https://www.huffingtonpost.com/entry/eric-trum...   \n",
       "52976   https://www.huffingtonpost.com/entry/pat-mccro...   \n",
       "\n",
       "                                                 headline  category  \\\n",
       "98133   I'm With Stupid: Arrested Despite 72,000 Good-...    COMEDY   \n",
       "149777  'SNL' Troubleshoots Obamacare Website Problems...    COMEDY   \n",
       "183841  Fallon's Retro Halloween Video Teaches You How...    COMEDY   \n",
       "5899    Alec Baldwin Returns To 'SNL' For Trump Rally ...    COMEDY   \n",
       "8077    Trevor Noah Hints That Trump May Have A Proble...    COMEDY   \n",
       "...                                                   ...       ...   \n",
       "87212   Obama's Big UN Week Sunk by Putin's Clever Gam...  POLITICS   \n",
       "11871   Robert Mueller May Have Found That Witch That ...  POLITICS   \n",
       "40505   Wednesday's Morning Email: Part Of Trump's 200...  POLITICS   \n",
       "38264         Eric Trump: Nepotism Is 'A Beautiful Thing'  POLITICS   \n",
       "52976   HB 2 Just Cost North Carolina Another $250 Mil...  POLITICS   \n",
       "\n",
       "                                        short_description  \\\n",
       "98133   I have to admit that I'm a big fan of the seni...   \n",
       "149777  \"Saturday Night Live\" wasted no time getting t...   \n",
       "183841  Halloween can be both safe and fun... or, it c...   \n",
       "5899    Darrell Hammond's Clinton and Baldwin share im...   \n",
       "8077    Trump \"has this insane and innate talent for d...   \n",
       "...                                                   ...   \n",
       "87212   We may look back on this week as one of the tr...   \n",
       "11871   The special counsel spells out a link between ...   \n",
       "40505   TOP STORIES (And want to get The Morning Email...   \n",
       "38264   “Is that nepotism? Absolutely. Is that also a ...   \n",
       "52976   A real estate firm bypassed Charlotte for a ma...   \n",
       "\n",
       "                                              authors        date  \n",
       "98133     Todd Hartley, ContributorBuckler of swashes  2015-06-01  \n",
       "149777                                  Katla McGlynn  2013-10-27  \n",
       "183841                                                 2012-10-31  \n",
       "5899                                   Mary Papenfuss  2019-10-27  \n",
       "8077                                Carla Baranauckas  2018-09-27  \n",
       "...                                               ...         ...  \n",
       "87212   William Bradley, ContributorPolitical Analyst  2015-10-03  \n",
       "11871                                       S.V. Date  2018-03-28  \n",
       "40505                                    Eliot Nelson  2017-03-15  \n",
       "38264                                Christina Wilkie  2017-04-11  \n",
       "52976                                Jennifer Bendery  2016-10-26  \n",
       "\n",
       "[3500 rows x 6 columns]"
      ]
     },
     "execution_count": 6,
     "metadata": {},
     "output_type": "execute_result"
    }
   ],
   "source": [
    "df_sampled"
   ]
  },
  {
   "cell_type": "code",
   "execution_count": 11,
   "id": "12fca332",
   "metadata": {},
   "outputs": [],
   "source": [
    "from tqdm.notebook import tqdm\n",
    "tqdm.pandas()"
   ]
  },
  {
   "cell_type": "code",
   "execution_count": 12,
   "id": "subtle-consumption",
   "metadata": {},
   "outputs": [
    {
     "data": {
      "application/vnd.jupyter.widget-view+json": {
       "model_id": "9b829b11e440407daa3f703cfa544e40",
       "version_major": 2,
       "version_minor": 0
      },
      "text/plain": [
       "  0%|          | 0/3500 [00:00<?, ?it/s]"
      ]
     },
     "metadata": {},
     "output_type": "display_data"
    },
    {
     "name": "stdout",
     "output_type": "stream",
     "text": [
      "Exception again!\n",
      "Exception again!\n",
      "Exception again!\n",
      "Exception again!\n",
      "Exception again!\n",
      "Exception again!\n",
      "Exception again!\n",
      "Exception again!\n",
      "Exception again!\n",
      "Exception again!\n",
      "Exception again!\n",
      "Exception again!\n",
      "Exception again!\n"
     ]
    }
   ],
   "source": [
    "df_sampled['embeddings'] = df_sampled['short_description'].progress_apply(my_embedding)"
   ]
  },
  {
   "cell_type": "code",
   "execution_count": 13,
   "id": "8e08a180",
   "metadata": {},
   "outputs": [
    {
     "data": {
      "text/html": [
       "<div>\n",
       "<style scoped>\n",
       "    .dataframe tbody tr th:only-of-type {\n",
       "        vertical-align: middle;\n",
       "    }\n",
       "\n",
       "    .dataframe tbody tr th {\n",
       "        vertical-align: top;\n",
       "    }\n",
       "\n",
       "    .dataframe thead th {\n",
       "        text-align: right;\n",
       "    }\n",
       "</style>\n",
       "<table border=\"1\" class=\"dataframe\">\n",
       "  <thead>\n",
       "    <tr style=\"text-align: right;\">\n",
       "      <th></th>\n",
       "      <th>link</th>\n",
       "      <th>headline</th>\n",
       "      <th>category</th>\n",
       "      <th>short_description</th>\n",
       "      <th>authors</th>\n",
       "      <th>date</th>\n",
       "      <th>embeddings</th>\n",
       "    </tr>\n",
       "  </thead>\n",
       "  <tbody>\n",
       "    <tr>\n",
       "      <th>98133</th>\n",
       "      <td>https://www.huffingtonpost.com/entry/im-with-s...</td>\n",
       "      <td>I'm With Stupid: Arrested Despite 72,000 Good-...</td>\n",
       "      <td>COMEDY</td>\n",
       "      <td>I have to admit that I'm a big fan of the seni...</td>\n",
       "      <td>Todd Hartley, ContributorBuckler of swashes</td>\n",
       "      <td>2015-06-01</td>\n",
       "      <td>[0.9367865324020386, 0.4700884521007538, 0.951...</td>\n",
       "    </tr>\n",
       "    <tr>\n",
       "      <th>149777</th>\n",
       "      <td>https://www.huffingtonpost.com/entry/snl-obama...</td>\n",
       "      <td>'SNL' Troubleshoots Obamacare Website Problems...</td>\n",
       "      <td>COMEDY</td>\n",
       "      <td>\"Saturday Night Live\" wasted no time getting t...</td>\n",
       "      <td>Katla McGlynn</td>\n",
       "      <td>2013-10-27</td>\n",
       "      <td>[-0.27853086590766907, 0.23220013082027435, -0...</td>\n",
       "    </tr>\n",
       "    <tr>\n",
       "      <th>183841</th>\n",
       "      <td>https://www.huffingtonpost.com/entry/fallon-re...</td>\n",
       "      <td>Fallon's Retro Halloween Video Teaches You How...</td>\n",
       "      <td>COMEDY</td>\n",
       "      <td>Halloween can be both safe and fun... or, it c...</td>\n",
       "      <td></td>\n",
       "      <td>2012-10-31</td>\n",
       "      <td>[-0.6867219805717468, 0.4832497537136078, -0.6...</td>\n",
       "    </tr>\n",
       "    <tr>\n",
       "      <th>5899</th>\n",
       "      <td>https://www.huffpost.com/entry/donald-trump-al...</td>\n",
       "      <td>Alec Baldwin Returns To 'SNL' For Trump Rally ...</td>\n",
       "      <td>COMEDY</td>\n",
       "      <td>Darrell Hammond's Clinton and Baldwin share im...</td>\n",
       "      <td>Mary Papenfuss</td>\n",
       "      <td>2019-10-27</td>\n",
       "      <td>[0.9815870523452759, 0.6404871940612793, -0.39...</td>\n",
       "    </tr>\n",
       "    <tr>\n",
       "      <th>8077</th>\n",
       "      <td>https://www.huffpost.com/entry/trevor-noah-tru...</td>\n",
       "      <td>Trevor Noah Hints That Trump May Have A Proble...</td>\n",
       "      <td>COMEDY</td>\n",
       "      <td>Trump \"has this insane and innate talent for d...</td>\n",
       "      <td>Carla Baranauckas</td>\n",
       "      <td>2018-09-27</td>\n",
       "      <td>[-0.5904642939567566, 0.07438834011554718, 0.9...</td>\n",
       "    </tr>\n",
       "    <tr>\n",
       "      <th>...</th>\n",
       "      <td>...</td>\n",
       "      <td>...</td>\n",
       "      <td>...</td>\n",
       "      <td>...</td>\n",
       "      <td>...</td>\n",
       "      <td>...</td>\n",
       "      <td>...</td>\n",
       "    </tr>\n",
       "    <tr>\n",
       "      <th>87212</th>\n",
       "      <td>https://www.huffingtonpost.com/entry/obamas-bi...</td>\n",
       "      <td>Obama's Big UN Week Sunk by Putin's Clever Gam...</td>\n",
       "      <td>POLITICS</td>\n",
       "      <td>We may look back on this week as one of the tr...</td>\n",
       "      <td>William Bradley, ContributorPolitical Analyst</td>\n",
       "      <td>2015-10-03</td>\n",
       "      <td>[-0.8026062846183777, -0.7641746401786804, 0.0...</td>\n",
       "    </tr>\n",
       "    <tr>\n",
       "      <th>11871</th>\n",
       "      <td>https://www.huffingtonpost.com/entry/trump-rob...</td>\n",
       "      <td>Robert Mueller May Have Found That Witch That ...</td>\n",
       "      <td>POLITICS</td>\n",
       "      <td>The special counsel spells out a link between ...</td>\n",
       "      <td>S.V. Date</td>\n",
       "      <td>2018-03-28</td>\n",
       "      <td>[0.9791935682296753, 0.9959121942520142, 0.724...</td>\n",
       "    </tr>\n",
       "    <tr>\n",
       "      <th>40505</th>\n",
       "      <td>https://www.huffingtonpost.com/entry/the-morni...</td>\n",
       "      <td>Wednesday's Morning Email: Part Of Trump's 200...</td>\n",
       "      <td>POLITICS</td>\n",
       "      <td>TOP STORIES (And want to get The Morning Email...</td>\n",
       "      <td>Eliot Nelson</td>\n",
       "      <td>2017-03-15</td>\n",
       "      <td>[-0.8966266512870789, 0.3837912082672119, -0.3...</td>\n",
       "    </tr>\n",
       "    <tr>\n",
       "      <th>38264</th>\n",
       "      <td>https://www.huffingtonpost.com/entry/eric-trum...</td>\n",
       "      <td>Eric Trump: Nepotism Is 'A Beautiful Thing'</td>\n",
       "      <td>POLITICS</td>\n",
       "      <td>“Is that nepotism? Absolutely. Is that also a ...</td>\n",
       "      <td>Christina Wilkie</td>\n",
       "      <td>2017-04-11</td>\n",
       "      <td>[-0.480586975812912, 0.5430741906166077, 0.300...</td>\n",
       "    </tr>\n",
       "    <tr>\n",
       "      <th>52976</th>\n",
       "      <td>https://www.huffingtonpost.com/entry/pat-mccro...</td>\n",
       "      <td>HB 2 Just Cost North Carolina Another $250 Mil...</td>\n",
       "      <td>POLITICS</td>\n",
       "      <td>A real estate firm bypassed Charlotte for a ma...</td>\n",
       "      <td>Jennifer Bendery</td>\n",
       "      <td>2016-10-26</td>\n",
       "      <td>[-0.9517157673835754, 0.32200515270233154, 0.9...</td>\n",
       "    </tr>\n",
       "  </tbody>\n",
       "</table>\n",
       "<p>3500 rows × 7 columns</p>\n",
       "</div>"
      ],
      "text/plain": [
       "                                                     link  \\\n",
       "98133   https://www.huffingtonpost.com/entry/im-with-s...   \n",
       "149777  https://www.huffingtonpost.com/entry/snl-obama...   \n",
       "183841  https://www.huffingtonpost.com/entry/fallon-re...   \n",
       "5899    https://www.huffpost.com/entry/donald-trump-al...   \n",
       "8077    https://www.huffpost.com/entry/trevor-noah-tru...   \n",
       "...                                                   ...   \n",
       "87212   https://www.huffingtonpost.com/entry/obamas-bi...   \n",
       "11871   https://www.huffingtonpost.com/entry/trump-rob...   \n",
       "40505   https://www.huffingtonpost.com/entry/the-morni...   \n",
       "38264   https://www.huffingtonpost.com/entry/eric-trum...   \n",
       "52976   https://www.huffingtonpost.com/entry/pat-mccro...   \n",
       "\n",
       "                                                 headline  category  \\\n",
       "98133   I'm With Stupid: Arrested Despite 72,000 Good-...    COMEDY   \n",
       "149777  'SNL' Troubleshoots Obamacare Website Problems...    COMEDY   \n",
       "183841  Fallon's Retro Halloween Video Teaches You How...    COMEDY   \n",
       "5899    Alec Baldwin Returns To 'SNL' For Trump Rally ...    COMEDY   \n",
       "8077    Trevor Noah Hints That Trump May Have A Proble...    COMEDY   \n",
       "...                                                   ...       ...   \n",
       "87212   Obama's Big UN Week Sunk by Putin's Clever Gam...  POLITICS   \n",
       "11871   Robert Mueller May Have Found That Witch That ...  POLITICS   \n",
       "40505   Wednesday's Morning Email: Part Of Trump's 200...  POLITICS   \n",
       "38264         Eric Trump: Nepotism Is 'A Beautiful Thing'  POLITICS   \n",
       "52976   HB 2 Just Cost North Carolina Another $250 Mil...  POLITICS   \n",
       "\n",
       "                                        short_description  \\\n",
       "98133   I have to admit that I'm a big fan of the seni...   \n",
       "149777  \"Saturday Night Live\" wasted no time getting t...   \n",
       "183841  Halloween can be both safe and fun... or, it c...   \n",
       "5899    Darrell Hammond's Clinton and Baldwin share im...   \n",
       "8077    Trump \"has this insane and innate talent for d...   \n",
       "...                                                   ...   \n",
       "87212   We may look back on this week as one of the tr...   \n",
       "11871   The special counsel spells out a link between ...   \n",
       "40505   TOP STORIES (And want to get The Morning Email...   \n",
       "38264   “Is that nepotism? Absolutely. Is that also a ...   \n",
       "52976   A real estate firm bypassed Charlotte for a ma...   \n",
       "\n",
       "                                              authors        date  \\\n",
       "98133     Todd Hartley, ContributorBuckler of swashes  2015-06-01   \n",
       "149777                                  Katla McGlynn  2013-10-27   \n",
       "183841                                                 2012-10-31   \n",
       "5899                                   Mary Papenfuss  2019-10-27   \n",
       "8077                                Carla Baranauckas  2018-09-27   \n",
       "...                                               ...         ...   \n",
       "87212   William Bradley, ContributorPolitical Analyst  2015-10-03   \n",
       "11871                                       S.V. Date  2018-03-28   \n",
       "40505                                    Eliot Nelson  2017-03-15   \n",
       "38264                                Christina Wilkie  2017-04-11   \n",
       "52976                                Jennifer Bendery  2016-10-26   \n",
       "\n",
       "                                               embeddings  \n",
       "98133   [0.9367865324020386, 0.4700884521007538, 0.951...  \n",
       "149777  [-0.27853086590766907, 0.23220013082027435, -0...  \n",
       "183841  [-0.6867219805717468, 0.4832497537136078, -0.6...  \n",
       "5899    [0.9815870523452759, 0.6404871940612793, -0.39...  \n",
       "8077    [-0.5904642939567566, 0.07438834011554718, 0.9...  \n",
       "...                                                   ...  \n",
       "87212   [-0.8026062846183777, -0.7641746401786804, 0.0...  \n",
       "11871   [0.9791935682296753, 0.9959121942520142, 0.724...  \n",
       "40505   [-0.8966266512870789, 0.3837912082672119, -0.3...  \n",
       "38264   [-0.480586975812912, 0.5430741906166077, 0.300...  \n",
       "52976   [-0.9517157673835754, 0.32200515270233154, 0.9...  \n",
       "\n",
       "[3500 rows x 7 columns]"
      ]
     },
     "execution_count": 13,
     "metadata": {},
     "output_type": "execute_result"
    }
   ],
   "source": [
    "df_sampled"
   ]
  },
  {
   "cell_type": "code",
   "execution_count": 8,
   "id": "immediate-peace",
   "metadata": {},
   "outputs": [],
   "source": [
    "from trial import get_embedding\n",
    "from time import sleep"
   ]
  },
  {
   "cell_type": "code",
   "execution_count": 9,
   "id": "hungry-village",
   "metadata": {},
   "outputs": [],
   "source": [
    "def my_embedding(text):\n",
    "    sleep(1)\n",
    "    try:\n",
    "        return get_embedding(text, \"RMEtdXzF641ECEIQpFeAU2ZVgbg8CbCe8sLYL9X5\")\n",
    "    except:\n",
    "        return None"
   ]
  },
  {
   "cell_type": "code",
   "execution_count": 14,
   "id": "prospective-fifteen",
   "metadata": {},
   "outputs": [],
   "source": [
    "df_sampled.to_csv('save_embeddings_2.csv')"
   ]
  },
  {
   "cell_type": "code",
   "execution_count": 15,
   "id": "a4d3c84a",
   "metadata": {},
   "outputs": [],
   "source": [
    "X = []\n",
    "y = []\n",
    "for index, row in df_sampled.dropna().iterrows():\n",
    "    X.append(row['embeddings'])\n",
    "    y.append(categories.index(row['category']))"
   ]
  },
  {
   "cell_type": "code",
   "execution_count": 16,
   "id": "98588066",
   "metadata": {},
   "outputs": [],
   "source": [
    "import numpy as np"
   ]
  },
  {
   "cell_type": "code",
   "execution_count": 17,
   "id": "b440ae3c",
   "metadata": {},
   "outputs": [
    {
     "data": {
      "text/plain": [
       "(3487, 512)"
      ]
     },
     "execution_count": 17,
     "metadata": {},
     "output_type": "execute_result"
    }
   ],
   "source": [
    "X = np.array(X)\n",
    "X.shape"
   ]
  },
  {
   "cell_type": "code",
   "execution_count": 18,
   "id": "2ce656dd",
   "metadata": {},
   "outputs": [
    {
     "data": {
      "text/plain": [
       "(3487,)"
      ]
     },
     "execution_count": 18,
     "metadata": {},
     "output_type": "execute_result"
    }
   ],
   "source": [
    "y = np.array(y)\n",
    "y.shape"
   ]
  },
  {
   "cell_type": "code",
   "execution_count": 19,
   "id": "2a9ccfc6",
   "metadata": {},
   "outputs": [],
   "source": [
    "from sklearn.ensemble import RandomForestClassifier\n",
    "from sklearn.model_selection import train_test_split"
   ]
  },
  {
   "cell_type": "code",
   "execution_count": 20,
   "id": "50fa58f8",
   "metadata": {},
   "outputs": [],
   "source": [
    "X_train, X_test, y_train, y_test = train_test_split(\n",
    "    X, y, test_size=0.33, random_state=42)"
   ]
  },
  {
   "cell_type": "code",
   "execution_count": 41,
   "id": "ed1d552f",
   "metadata": {},
   "outputs": [],
   "source": [
    "clf = RandomForestClassifier(max_depth=5, random_state=0)"
   ]
  },
  {
   "cell_type": "code",
   "execution_count": 42,
   "id": "cad72d29",
   "metadata": {},
   "outputs": [
    {
     "data": {
      "text/plain": [
       "RandomForestClassifier(max_depth=5, random_state=0)"
      ]
     },
     "execution_count": 42,
     "metadata": {},
     "output_type": "execute_result"
    }
   ],
   "source": [
    "clf.fit(X_train, y_train)"
   ]
  },
  {
   "cell_type": "code",
   "execution_count": 43,
   "id": "2575d22b",
   "metadata": {},
   "outputs": [
    {
     "data": {
      "text/plain": [
       "0.5560787671232876"
      ]
     },
     "execution_count": 43,
     "metadata": {},
     "output_type": "execute_result"
    }
   ],
   "source": [
    "clf.score(X_train, y_train)"
   ]
  },
  {
   "cell_type": "code",
   "execution_count": 44,
   "id": "cb26424d",
   "metadata": {},
   "outputs": [
    {
     "data": {
      "text/plain": [
       "0.3805386620330148"
      ]
     },
     "execution_count": 44,
     "metadata": {},
     "output_type": "execute_result"
    }
   ],
   "source": [
    "clf.score(X_test, y_test)"
   ]
  },
  {
   "cell_type": "code",
   "execution_count": 45,
   "id": "f341c065",
   "metadata": {},
   "outputs": [
    {
     "data": {
      "text/plain": [
       "array([0])"
      ]
     },
     "execution_count": 45,
     "metadata": {},
     "output_type": "execute_result"
    }
   ],
   "source": [
    "clf.predict([my_embedding(\"\"\"It finds the 37-year-old in fine spiky form, with off-colour jokes to spare and all the infectious self-satisfaction of a comic who, beaming from ear to ear, knows how good she is. The laugh you get used to hearing in the audience is two parts delighted amusement to one part splutter of dismay that anyone could say something so impolite. Whether comparing the queue for the Queen’s lying in state to the storming of the Capitol, conjuring with ways to improvise an abortion in post-Roe v Wade America, or thought-experimenting with bestiality, the corkscrew-haired comic brings tight joke-writing and taboos together and revels in the fallout.\n",
    "\n",
    "\"\"\")])"
   ]
  },
  {
   "cell_type": "code",
   "execution_count": 46,
   "id": "7580cf2e",
   "metadata": {},
   "outputs": [],
   "source": [
    "from joblib import dump, load"
   ]
  },
  {
   "cell_type": "code",
   "execution_count": 47,
   "id": "55f52177",
   "metadata": {},
   "outputs": [
    {
     "data": {
      "text/plain": [
       "['classifier_2.joblib']"
      ]
     },
     "execution_count": 47,
     "metadata": {},
     "output_type": "execute_result"
    }
   ],
   "source": [
    "dump(clf, 'classifier_2.joblib')"
   ]
  },
  {
   "cell_type": "code",
   "execution_count": null,
   "id": "f48c6e19",
   "metadata": {},
   "outputs": [],
   "source": []
  }
 ],
 "metadata": {
  "kernelspec": {
   "display_name": "Python 3 (ipykernel)",
   "language": "python",
   "name": "python3"
  },
  "language_info": {
   "codemirror_mode": {
    "name": "ipython",
    "version": 3
   },
   "file_extension": ".py",
   "mimetype": "text/x-python",
   "name": "python",
   "nbconvert_exporter": "python",
   "pygments_lexer": "ipython3",
   "version": "3.7.3"
  }
 },
 "nbformat": 4,
 "nbformat_minor": 5
}
